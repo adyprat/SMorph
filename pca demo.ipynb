{
 "cells": [
  {
   "cell_type": "code",
   "execution_count": 1,
   "metadata": {},
   "outputs": [
    {
     "name": "stderr",
     "output_type": "stream",
     "text": [
      "/usr/local/lib/python3.7/site-packages/FFST/_fft.py:52: UserWarning: pyFFTW not found.  will try to use mklfft instead.\n",
      "  warnings.warn(\"pyFFTW not found.  will try to use mklfft instead.\")\n",
      "/usr/local/lib/python3.7/site-packages/FFST/_fft.py:64: UserWarning: neither pyFFTW or mklfft found.  will use numpy.fft.\n",
      "  warnings.warn(\"neither pyFFTW or mklfft found.  will use numpy.fft.\")\n"
     ]
    }
   ],
   "source": [
    "import morphanalysis"
   ]
  },
  {
   "cell_type": "code",
   "execution_count": 2,
   "metadata": {},
   "outputs": [],
   "source": [
    "groups_folders=[\"pca data/ko\", \"pca data/control\"]"
   ]
  },
  {
   "cell_type": "code",
   "execution_count": null,
   "metadata": {
    "scrolled": true
   },
   "outputs": [
    {
     "name": "stdout",
     "output_type": "stream",
     "text": [
      "pca data/ko/8.jpg\n",
      "pca data/ko/9.jpg\n",
      "pca data/ko/10.jpg\n",
      "pca data/ko/4.jpg\n",
      "pca data/ko/5.jpg\n",
      "pca data/ko/7.jpg\n",
      "pca data/ko/6.jpg\n",
      "pca data/ko/2.jpg\n",
      "pca data/ko/3.jpg\n",
      "pca data/ko/1.jpg\n",
      "pca data/control/8.jpg\n",
      "pca data/control/4.jpg\n",
      "pca data/control/5.jpg\n",
      "pca data/control/7.jpg\n",
      "pca data/control/6.jpg\n",
      "pca data/control/2.jpg\n",
      "pca data/control/3.jpg\n",
      "pca data/control/1.jpg\n"
     ]
    }
   ],
   "source": [
    "pca = morphanalysis.pca(groups_folders)"
   ]
  },
  {
   "cell_type": "code",
   "execution_count": null,
   "metadata": {},
   "outputs": [],
   "source": [
    "color_dict={0:'red',1:'green'}\n",
    "label={0:'Knockout',1:'Control'}\n",
    "marker={0:'*',1:'o'}"
   ]
  },
  {
   "cell_type": "code",
   "execution_count": null,
   "metadata": {},
   "outputs": [],
   "source": [
    "pca.plot(color_dict, label, marker)"
   ]
  },
  {
   "cell_type": "code",
   "execution_count": null,
   "metadata": {},
   "outputs": [],
   "source": [
    "pca.plot_feature_significance_heatmap()"
   ]
  },
  {
   "cell_type": "code",
   "execution_count": null,
   "metadata": {},
   "outputs": [],
   "source": [
    "pca.plot_feature_significance_vectors()"
   ]
  },
  {
   "cell_type": "code",
   "execution_count": null,
   "metadata": {},
   "outputs": [],
   "source": []
  }
 ],
 "metadata": {
  "kernelspec": {
   "display_name": "Python 3",
   "language": "python",
   "name": "python3"
  },
  "language_info": {
   "codemirror_mode": {
    "name": "ipython",
    "version": 3
   },
   "file_extension": ".py",
   "mimetype": "text/x-python",
   "name": "python",
   "nbconvert_exporter": "python",
   "pygments_lexer": "ipython3",
   "version": "3.7.4"
  }
 },
 "nbformat": 4,
 "nbformat_minor": 2
}
